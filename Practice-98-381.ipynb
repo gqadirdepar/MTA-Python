{
 "cells": [
  {
   "cell_type": "code",
   "execution_count": 1,
   "metadata": {},
   "outputs": [
    {
     "name": "stdout",
     "output_type": "stream",
     "text": [
      "How long? (enter 0 to end) 14\n",
      "How long? (enter 0 to end) 16\n",
      "How long? (enter 0 to end) 5\n",
      "How long? (enter 0 to end) 0\n",
      "Sum: 35\n"
     ]
    }
   ],
   "source": [
    "# Sentinel Value Example,\n",
    "sum = 0\n",
    "data = int(input(\"How long? (enter 0 to end) \"))\n",
    "while data != 0:   # 0 is sentinel value to control loop\n",
    "    sum = sum + data\n",
    "    data = int(input(\"How long? (enter 0 to end) \"))\n",
    "print(\"Sum:\",sum)"
   ]
  },
  {
   "cell_type": "code",
   "execution_count": 11,
   "metadata": {},
   "outputs": [
    {
     "name": "stdout",
     "output_type": "stream",
     "text": [
      "How long? (enter 0 to end) 0\n",
      "Sum: 0\n"
     ]
    }
   ],
   "source": [
    "# Sentinel Value Example,\n",
    "sum = 0\n",
    "data = int(input(\"How long? (enter 0 to end) \"))\n",
    "while data != 0:   # 0 is sentinel value to control loop while loop must return true to continue else break.on 0 it is break\n",
    "    sum = sum + data\n",
    "    data = int(input(\"How long? (enter 0 to end) \"))\n",
    "print(\"Sum:\",sum)"
   ]
  },
  {
   "cell_type": "code",
   "execution_count": 5,
   "metadata": {},
   "outputs": [],
   "source": [
    "# Q2. Sentinel Example \n",
    "emp = \"\"\n",
    "parts = \"\"\n",
    "while emp !=\"\":\n",
    "    valid= False\n",
    "    emp=input('Enter Employee No (ddd-dd-dddd) ?')\n",
    "    parts=emp.split('-')\n",
    "    if len(parts)==3:\n",
    "        if len(parts[0])==3 and len(parts[1])==2 and len(parts[2])==4:\n",
    "            if parts[0].isdigit() and parts[1].isdigit() and parts[2].isdigit():\n",
    "                valid=True\n",
    "    print(valid)"
   ]
  },
  {
   "cell_type": "code",
   "execution_count": 3,
   "metadata": {},
   "outputs": [],
   "source": [
    "emp=' a'"
   ]
  },
  {
   "cell_type": "markdown",
   "metadata": {},
   "source": [
    "emp"
   ]
  },
  {
   "cell_type": "code",
   "execution_count": null,
   "metadata": {},
   "outputs": [],
   "source": []
  },
  {
   "cell_type": "code",
   "execution_count": 4,
   "metadata": {},
   "outputs": [
    {
     "name": "stdout",
     "output_type": "stream",
     "text": [
      "True\n"
     ]
    }
   ],
   "source": [
    "print(emp!='')"
   ]
  },
  {
   "cell_type": "code",
   "execution_count": 7,
   "metadata": {},
   "outputs": [
    {
     "name": "stdout",
     "output_type": "stream",
     "text": [
      "Enter Employee No (ddd-dd-dddd) ?123-22-4567\n",
      "True\n",
      "Enter Employee No (ddd-dd-dddd) ?\n",
      "False\n"
     ]
    }
   ],
   "source": [
    "# Q3. Sentinel Example \n",
    "no = \" \"\n",
    "parts = \"\"\n",
    "while no !=\"\": # this must return true than loop will continue\n",
    "    valid= False\n",
    "    no=input('Enter Employee No (ddd-dd-dddd) ?')\n",
    "    parts=no.split('-')\n",
    "    if len(parts)==3:\n",
    "        if len(parts[0])==3 and len(parts[1])==2 and len(parts[2])==4:\n",
    "            if parts[0].isdigit() and parts[1].isdigit() and parts[2].isdigit():\n",
    "                valid=True\n",
    "    print(valid)"
   ]
  },
  {
   "cell_type": "markdown",
   "metadata": {},
   "source": [
    "# QUESTION 2 HOTSPOT\n",
    "You are writing a Python program to validate employee numbers.\n",
    "The employee number must have the format ddd-dd-dddd and consist only of numbers and dashes. The program must print True if the format is correct and print False if the format is incorrect.\n",
    "How should you complete the code? To answer, select the appropriate code segments in the answer area"
   ]
  },
  {
   "cell_type": "code",
   "execution_count": 20,
   "metadata": {},
   "outputs": [
    {
     "name": "stdout",
     "output_type": "stream",
     "text": [
      "Enter Employee No (ddd-dd-dddd) ?123-45-6789\n",
      "True\n",
      "Enter Employee No (ddd-dd-dddd) ?12-89-78\n",
      "False\n",
      "Enter Employee No (ddd-dd-dddd) ?\n",
      "False\n",
      "done\n"
     ]
    }
   ],
   "source": [
    "# Q2.  can failry be written as follow for Sentinel Example \n",
    "\n",
    "parts = \"\"\n",
    "emp=' ' # employee vaue assigned as space \n",
    "while emp !=\"\":\n",
    "    emp=input('Enter Employee No (ddd-dd-dddd) ?')\n",
    "    valid= False\n",
    "    parts=emp.split('-')\n",
    "    if len(parts)==3:\n",
    "        if len(parts[0])==3 and len(parts[1])==2 and len(parts[2])==4:\n",
    "            if parts[0].isdigit() and parts[1].isdigit() and parts[2].isdigit():\n",
    "                valid=True\n",
    "    print(valid)\n",
    "print('done')"
   ]
  },
  {
   "cell_type": "markdown",
   "metadata": {},
   "source": [
    "# QUESTION 3 HOTSPOT\n",
    "You are coding a math utility by using Python.\n",
    "You are writing a function to compute roots.\n",
    "The function must meet the following requirements:\n",
    "    if a is non negative return a** (1/b)\n",
    "    if a is negative and even return 'result is imaginery\n",
    "    if a is negative and odd return -(-a)**(1/b)\n",
    "\n",
    "\n",
    "\n",
    "How should you complete the code? To answer, select the appropriate code segments in the answer area."
   ]
  },
  {
   "cell_type": "code",
   "execution_count": 22,
   "metadata": {},
   "outputs": [],
   "source": [
    "def roots(a,b):\n",
    "    if a>0 :\n",
    "        result=a**(1/b)\n",
    "    else:\n",
    "        if a%2==0:\n",
    "            result='result is imaginery'\n",
    "        else:\n",
    "            result=-(-a)**1/b\n",
    "    return result\n"
   ]
  },
  {
   "cell_type": "code",
   "execution_count": 23,
   "metadata": {},
   "outputs": [
    {
     "data": {
      "text/plain": [
       "1.189207115002721"
      ]
     },
     "execution_count": 23,
     "metadata": {},
     "output_type": "execute_result"
    }
   ],
   "source": [
    "roots(2,4)"
   ]
  },
  {
   "cell_type": "code",
   "execution_count": 24,
   "metadata": {},
   "outputs": [
    {
     "data": {
      "text/plain": [
       "2.0"
      ]
     },
     "execution_count": 24,
     "metadata": {},
     "output_type": "execute_result"
    }
   ],
   "source": [
    "roots(4,2)"
   ]
  },
  {
   "cell_type": "code",
   "execution_count": 25,
   "metadata": {},
   "outputs": [
    {
     "data": {
      "text/plain": [
       "'result is imaginery'"
      ]
     },
     "execution_count": 25,
     "metadata": {},
     "output_type": "execute_result"
    }
   ],
   "source": [
    "roots(-8,2)"
   ]
  },
  {
   "cell_type": "code",
   "execution_count": 26,
   "metadata": {},
   "outputs": [
    {
     "data": {
      "text/plain": [
       "-3.5"
      ]
     },
     "execution_count": 26,
     "metadata": {},
     "output_type": "execute_result"
    }
   ],
   "source": [
    "roots(-7,2)"
   ]
  },
  {
   "cell_type": "code",
   "execution_count": 27,
   "metadata": {},
   "outputs": [
    {
     "data": {
      "text/plain": [
       "2.6457513110645907"
      ]
     },
     "execution_count": 27,
     "metadata": {},
     "output_type": "execute_result"
    }
   ],
   "source": [
    "roots(7,2)"
   ]
  },
  {
   "cell_type": "code",
   "execution_count": 29,
   "metadata": {},
   "outputs": [],
   "source": [
    "var = 1+2j"
   ]
  },
  {
   "cell_type": "code",
   "execution_count": 30,
   "metadata": {},
   "outputs": [
    {
     "data": {
      "text/plain": [
       "complex"
      ]
     },
     "execution_count": 30,
     "metadata": {},
     "output_type": "execute_result"
    }
   ],
   "source": [
    "type(var)"
   ]
  },
  {
   "cell_type": "markdown",
   "metadata": {},
   "source": [
    "# QUESTION 3 HOTSPOT\n",
    "You work for a company that distributes media for all ages.\n",
    "You are writing a function that assigns a rating based on a user’s age. The function must meet the following requirements:\n",
    "Anyone 18 years old or older receives a rating of “A”\n",
    "Anyone 13 or older, but younger than 18, receives a rating of “T”\n",
    "Anyone 12 years old or younger receives a rating of “C” \n",
    "If the age is unknown, the rating is set to “C” You need to \n",
    "complete the code to meet the requirements"
   ]
  },
  {
   "cell_type": "code",
   "execution_count": 16,
   "metadata": {},
   "outputs": [],
   "source": [
    "def rating(age):\n",
    "    rating=''\n",
    "    if age>17:\n",
    "        rating='A'\n",
    "    elif age>12:\n",
    "        rating='T'\n",
    "    else:\n",
    "        rating='C'\n",
    "    return rating"
   ]
  },
  {
   "cell_type": "code",
   "execution_count": 21,
   "metadata": {},
   "outputs": [
    {
     "data": {
      "text/plain": [
       "'A'"
      ]
     },
     "execution_count": 21,
     "metadata": {},
     "output_type": "execute_result"
    }
   ],
   "source": [
    "rating(100)"
   ]
  },
  {
   "cell_type": "code",
   "execution_count": 6,
   "metadata": {},
   "outputs": [
    {
     "data": {
      "text/plain": [
       "'T'"
      ]
     },
     "execution_count": 6,
     "metadata": {},
     "output_type": "execute_result"
    }
   ],
   "source": [
    "rating(13)"
   ]
  },
  {
   "cell_type": "code",
   "execution_count": 9,
   "metadata": {},
   "outputs": [
    {
     "data": {
      "text/plain": [
       "'A'"
      ]
     },
     "execution_count": 9,
     "metadata": {},
     "output_type": "execute_result"
    }
   ],
   "source": [
    "rating(100)"
   ]
  },
  {
   "cell_type": "code",
   "execution_count": 10,
   "metadata": {},
   "outputs": [],
   "source": [
    "def rating2(age):\n",
    "    rating=''\n",
    "    if age<18:\n",
    "        rating='T'\n",
    "    elif age<13:\n",
    "        rating='C'\n",
    "    elif age== None:\n",
    "        rating='c'\n",
    "    else:\n",
    "        rating='A'\n",
    "    return rating"
   ]
  },
  {
   "cell_type": "code",
   "execution_count": 11,
   "metadata": {},
   "outputs": [
    {
     "data": {
      "text/plain": [
       "'T'"
      ]
     },
     "execution_count": 11,
     "metadata": {},
     "output_type": "execute_result"
    }
   ],
   "source": [
    "rating2(13)"
   ]
  },
  {
   "cell_type": "code",
   "execution_count": 12,
   "metadata": {},
   "outputs": [
    {
     "data": {
      "text/plain": [
       "'T'"
      ]
     },
     "execution_count": 12,
     "metadata": {},
     "output_type": "execute_result"
    }
   ],
   "source": [
    "rating2(12)"
   ]
  },
  {
   "cell_type": "code",
   "execution_count": 23,
   "metadata": {},
   "outputs": [
    {
     "data": {
      "text/plain": [
       "6"
      ]
     },
     "execution_count": 23,
     "metadata": {},
     "output_type": "execute_result"
    }
   ],
   "source": [
    "x=1\n",
    "print(x+=5)\n"
   ]
  },
  {
   "cell_type": "code",
   "execution_count": 26,
   "metadata": {},
   "outputs": [
    {
     "data": {
      "text/plain": [
       "5"
      ]
     },
     "execution_count": 26,
     "metadata": {},
     "output_type": "execute_result"
    }
   ],
   "source": [
    "y=1\n",
    "y=+5\n",
    "y"
   ]
  },
  {
   "cell_type": "markdown",
   "metadata": {},
   "source": [
    "# Mathematical operators and its sequence \n",
    "PEMDAS\n",
    "first paranthesis , Exponent, Mult, Div, Add , Sub\n",
    "\n",
    "Addition +\n",
    "Subtraction -\n",
    "Multiplication *\n",
    "Division /\n",
    "Modulus\n",
    "Exponentiation % \n",
    "Floor division //"
   ]
  },
  {
   "cell_type": "code",
   "execution_count": 27,
   "metadata": {},
   "outputs": [
    {
     "data": {
      "text/plain": [
       "25"
      ]
     },
     "execution_count": 27,
     "metadata": {},
     "output_type": "execute_result"
    }
   ],
   "source": [
    "(2+3)*5"
   ]
  },
  {
   "cell_type": "code",
   "execution_count": 28,
   "metadata": {},
   "outputs": [
    {
     "data": {
      "text/plain": [
       "29"
      ]
     },
     "execution_count": 28,
     "metadata": {},
     "output_type": "execute_result"
    }
   ],
   "source": [
    "((2+3)*5+4)"
   ]
  },
  {
   "cell_type": "code",
   "execution_count": 29,
   "metadata": {},
   "outputs": [
    {
     "data": {
      "text/plain": [
       "16.0"
      ]
     },
     "execution_count": 29,
     "metadata": {},
     "output_type": "execute_result"
    }
   ],
   "source": [
    "( ( ( ( 13 + 5 ) * 2 ) - 4 ) / 2)"
   ]
  },
  {
   "cell_type": "code",
   "execution_count": 30,
   "metadata": {},
   "outputs": [
    {
     "data": {
      "text/plain": [
       "0"
      ]
     },
     "execution_count": 30,
     "metadata": {},
     "output_type": "execute_result"
    }
   ],
   "source": [
    "2//4"
   ]
  },
  {
   "cell_type": "code",
   "execution_count": 31,
   "metadata": {},
   "outputs": [
    {
     "data": {
      "text/plain": [
       "2"
      ]
     },
     "execution_count": 31,
     "metadata": {},
     "output_type": "execute_result"
    }
   ],
   "source": [
    "4//2 # remove . and later nos  called floor division"
   ]
  },
  {
   "cell_type": "code",
   "execution_count": 32,
   "metadata": {},
   "outputs": [
    {
     "data": {
      "text/plain": [
       "2.0"
      ]
     },
     "execution_count": 32,
     "metadata": {},
     "output_type": "execute_result"
    }
   ],
   "source": [
    "4/2 # return float"
   ]
  },
  {
   "cell_type": "code",
   "execution_count": 34,
   "metadata": {},
   "outputs": [
    {
     "data": {
      "text/plain": [
       "1"
      ]
     },
     "execution_count": 34,
     "metadata": {},
     "output_type": "execute_result"
    }
   ],
   "source": [
    "5%2 # modulus is reminder"
   ]
  },
  {
   "cell_type": "markdown",
   "metadata": {},
   "source": []
  }
 ],
 "metadata": {
  "kernelspec": {
   "display_name": "Python 3",
   "language": "python",
   "name": "python3"
  },
  "language_info": {
   "codemirror_mode": {
    "name": "ipython",
    "version": 3
   },
   "file_extension": ".py",
   "mimetype": "text/x-python",
   "name": "python",
   "nbconvert_exporter": "python",
   "pygments_lexer": "ipython3",
   "version": "3.7.3"
  }
 },
 "nbformat": 4,
 "nbformat_minor": 2
}
