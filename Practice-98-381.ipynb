{
 "cells": [
  {
   "cell_type": "code",
   "execution_count": 1,
   "metadata": {},
   "outputs": [
    {
     "name": "stdout",
     "output_type": "stream",
     "text": [
      "How long? (enter 0 to end) 14\n",
      "How long? (enter 0 to end) 16\n",
      "How long? (enter 0 to end) 5\n",
      "How long? (enter 0 to end) 0\n",
      "Sum: 35\n"
     ]
    }
   ],
   "source": [
    "# Sentinel Value Example,\n",
    "sum = 0\n",
    "data = int(input(\"How long? (enter 0 to end) \"))\n",
    "while data != 0:   # 0 is sentinel value to control loop\n",
    "    sum = sum + data\n",
    "    data = int(input(\"How long? (enter 0 to end) \"))\n",
    "print(\"Sum:\",sum)"
   ]
  },
  {
   "cell_type": "code",
   "execution_count": 11,
   "metadata": {},
   "outputs": [
    {
     "name": "stdout",
     "output_type": "stream",
     "text": [
      "How long? (enter 0 to end) 0\n",
      "Sum: 0\n"
     ]
    }
   ],
   "source": [
    "# Sentinel Value Example,\n",
    "sum = 0\n",
    "data = int(input(\"How long? (enter 0 to end) \"))\n",
    "while data != 0:   # 0 is sentinel value to control loop while loop must return true to continue else break.on 0 it is break\n",
    "    sum = sum + data\n",
    "    data = int(input(\"How long? (enter 0 to end) \"))\n",
    "print(\"Sum:\",sum)"
   ]
  },
  {
   "cell_type": "code",
   "execution_count": 5,
   "metadata": {},
   "outputs": [],
   "source": [
    "# Q2. Sentinel Example \n",
    "emp = \"\"\n",
    "parts = \"\"\n",
    "while emp !=\"\":\n",
    "    valid= False\n",
    "    emp=input('Enter Employee No (ddd-dd-dddd) ?')\n",
    "    parts=emp.split('-')\n",
    "    if len(parts)==3:\n",
    "        if len(parts[0])==3 and len(parts[1])==2 and len(parts[2])==4:\n",
    "            if parts[0].isdigit() and parts[1].isdigit() and parts[2].isdigit():\n",
    "                valid=True\n",
    "    print(valid)"
   ]
  },
  {
   "cell_type": "code",
   "execution_count": 3,
   "metadata": {},
   "outputs": [],
   "source": [
    "emp=' a'"
   ]
  },
  {
   "cell_type": "markdown",
   "metadata": {},
   "source": [
    "emp"
   ]
  },
  {
   "cell_type": "code",
   "execution_count": null,
   "metadata": {},
   "outputs": [],
   "source": []
  },
  {
   "cell_type": "code",
   "execution_count": 4,
   "metadata": {},
   "outputs": [
    {
     "name": "stdout",
     "output_type": "stream",
     "text": [
      "True\n"
     ]
    }
   ],
   "source": [
    "print(emp!='')"
   ]
  },
  {
   "cell_type": "code",
   "execution_count": 7,
   "metadata": {},
   "outputs": [
    {
     "name": "stdout",
     "output_type": "stream",
     "text": [
      "Enter Employee No (ddd-dd-dddd) ?123-22-4567\n",
      "True\n",
      "Enter Employee No (ddd-dd-dddd) ?\n",
      "False\n"
     ]
    }
   ],
   "source": [
    "# Q3. Sentinel Example \n",
    "no = \" \"\n",
    "parts = \"\"\n",
    "while no !=\"\": # this must return true than loop will continue\n",
    "    valid= False\n",
    "    no=input('Enter Employee No (ddd-dd-dddd) ?')\n",
    "    parts=no.split('-')\n",
    "    if len(parts)==3:\n",
    "        if len(parts[0])==3 and len(parts[1])==2 and len(parts[2])==4:\n",
    "            if parts[0].isdigit() and parts[1].isdigit() and parts[2].isdigit():\n",
    "                valid=True\n",
    "    print(valid)"
   ]
  },
  {
   "cell_type": "markdown",
   "metadata": {},
   "source": [
    "# QUESTION 2 HOTSPOT\n",
    "You are writing a Python program to validate employee numbers.\n",
    "The employee number must have the format ddd-dd-dddd and consist only of numbers and dashes. The program must print True if the format is correct and print False if the format is incorrect.\n",
    "How should you complete the code? To answer, select the appropriate code segments in the answer area"
   ]
  },
  {
   "cell_type": "code",
   "execution_count": 20,
   "metadata": {},
   "outputs": [
    {
     "name": "stdout",
     "output_type": "stream",
     "text": [
      "Enter Employee No (ddd-dd-dddd) ?123-45-6789\n",
      "True\n",
      "Enter Employee No (ddd-dd-dddd) ?12-89-78\n",
      "False\n",
      "Enter Employee No (ddd-dd-dddd) ?\n",
      "False\n",
      "done\n"
     ]
    }
   ],
   "source": [
    "# Q2.  can failry be written as follow for Sentinel Example \n",
    "\n",
    "parts = \"\"\n",
    "emp=' ' # employee vaue assigned as space \n",
    "while emp !=\"\":\n",
    "    emp=input('Enter Employee No (ddd-dd-dddd) ?')\n",
    "    valid= False\n",
    "    parts=emp.split('-')\n",
    "    if len(parts)==3:\n",
    "        if len(parts[0])==3 and len(parts[1])==2 and len(parts[2])==4:\n",
    "            if parts[0].isdigit() and parts[1].isdigit() and parts[2].isdigit():\n",
    "                valid=True\n",
    "    print(valid)\n",
    "print('done')"
   ]
  },
  {
   "cell_type": "markdown",
   "metadata": {},
   "source": [
    "# QUESTION 3 HOTSPOT\n",
    "You are coding a math utility by using Python.\n",
    "You are writing a function to compute roots.\n",
    "The function must meet the following requirements:\n",
    "    if a is non negative return a** (1/b)\n",
    "    if a is negative and even return 'result is imaginery\n",
    "    if a is negative and odd return -(-a)**(1/b)\n",
    "\n",
    "\n",
    "\n",
    "How should you complete the code? To answer, select the appropriate code segments in the answer area."
   ]
  },
  {
   "cell_type": "code",
   "execution_count": 22,
   "metadata": {},
   "outputs": [],
   "source": [
    "def roots(a,b):\n",
    "    if a>0 :\n",
    "        result=a**(1/b)\n",
    "    else:\n",
    "        if a%2==0:\n",
    "            result='result is imaginery'\n",
    "        else:\n",
    "            result=-(-a)**1/b\n",
    "    return result\n"
   ]
  },
  {
   "cell_type": "code",
   "execution_count": 23,
   "metadata": {},
   "outputs": [
    {
     "data": {
      "text/plain": [
       "1.189207115002721"
      ]
     },
     "execution_count": 23,
     "metadata": {},
     "output_type": "execute_result"
    }
   ],
   "source": [
    "roots(2,4)"
   ]
  },
  {
   "cell_type": "code",
   "execution_count": 24,
   "metadata": {},
   "outputs": [
    {
     "data": {
      "text/plain": [
       "2.0"
      ]
     },
     "execution_count": 24,
     "metadata": {},
     "output_type": "execute_result"
    }
   ],
   "source": [
    "roots(4,2)"
   ]
  },
  {
   "cell_type": "code",
   "execution_count": 25,
   "metadata": {},
   "outputs": [
    {
     "data": {
      "text/plain": [
       "'result is imaginery'"
      ]
     },
     "execution_count": 25,
     "metadata": {},
     "output_type": "execute_result"
    }
   ],
   "source": [
    "roots(-8,2)"
   ]
  },
  {
   "cell_type": "code",
   "execution_count": 26,
   "metadata": {},
   "outputs": [
    {
     "data": {
      "text/plain": [
       "-3.5"
      ]
     },
     "execution_count": 26,
     "metadata": {},
     "output_type": "execute_result"
    }
   ],
   "source": [
    "roots(-7,2)"
   ]
  },
  {
   "cell_type": "code",
   "execution_count": 27,
   "metadata": {},
   "outputs": [
    {
     "data": {
      "text/plain": [
       "2.6457513110645907"
      ]
     },
     "execution_count": 27,
     "metadata": {},
     "output_type": "execute_result"
    }
   ],
   "source": [
    "roots(7,2)"
   ]
  },
  {
   "cell_type": "code",
   "execution_count": 29,
   "metadata": {},
   "outputs": [],
   "source": [
    "var = 1+2j"
   ]
  },
  {
   "cell_type": "code",
   "execution_count": 30,
   "metadata": {},
   "outputs": [
    {
     "data": {
      "text/plain": [
       "complex"
      ]
     },
     "execution_count": 30,
     "metadata": {},
     "output_type": "execute_result"
    }
   ],
   "source": [
    "type(var)"
   ]
  },
  {
   "cell_type": "code",
   "execution_count": null,
   "metadata": {},
   "outputs": [],
   "source": []
  }
 ],
 "metadata": {
  "kernelspec": {
   "display_name": "Python 3",
   "language": "python",
   "name": "python3"
  },
  "language_info": {
   "codemirror_mode": {
    "name": "ipython",
    "version": 3
   },
   "file_extension": ".py",
   "mimetype": "text/x-python",
   "name": "python",
   "nbconvert_exporter": "python",
   "pygments_lexer": "ipython3",
   "version": "3.7.3"
  }
 },
 "nbformat": 4,
 "nbformat_minor": 2
}
